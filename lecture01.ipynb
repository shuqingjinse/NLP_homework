{
 "cells": [
  {
   "cell_type": "code",
   "execution_count": 33,
   "metadata": {
    "collapsed": true
   },
   "outputs": [],
   "source": [
    "import random\n",
    "grammar = \"\"\"\n",
    "sentence = adj noun verb adv noun2\n",
    "adj = adj_single adj_single 的 | null\n",
    "adj_single = 漂亮 | 蓝色 | 好看\n",
    "adv = 安静地 | 静静\n",
    "noun = 猫 | 女人 | 男人\n",
    "verb = adv 看着 | adv 坐着\n",
    "noun2 = 桌子 | 皮球\n",
    "\"\"\""
   ]
  },
  {
   "cell_type": "code",
   "execution_count": 34,
   "metadata": {},
   "outputs": [
    {
     "data": {
      "text/plain": [
       "{'adj': [['adj_single', 'adj_single', '的'], ['null']],\n",
       " 'adj_single': [['漂亮'], ['蓝色'], ['好看']],\n",
       " 'adv': [['安静地'], ['静静']],\n",
       " 'noun': [['猫'], ['女人'], ['男人']],\n",
       " 'noun2': [['桌子'], ['皮球']],\n",
       " 'sentence': [['adj', 'noun', 'verb', 'adv', 'noun2']],\n",
       " 'verb': [['adv', '看着'], ['adv', '坐着']]}"
      ]
     },
     "execution_count": 34,
     "metadata": {},
     "output_type": "execute_result"
    }
   ],
   "source": [
    "def build_grammar(grammar_str, split='='):\n",
    "    grammar_pattern = {}\n",
    "    for line in grammar_str.split('\\n'):\n",
    "        if not line:continue\n",
    "        stmt, expr = line.split(split)\n",
    "        grammar_pattern[stmt.strip()] = [e.split() for e in expr.split('|')]\n",
    "    return grammar_pattern\n",
    "grammar_pattern = build_grammar(grammar)"
   ]
  },
  {
   "cell_type": "code",
   "execution_count": 37,
   "metadata": {},
   "outputs": [
    {
     "data": {
      "text/plain": [
       "'女人安静地坐着安静地桌子'"
      ]
     },
     "execution_count": 37,
     "metadata": {},
     "output_type": "execute_result"
    }
   ],
   "source": [
    "def generate(grammar_pattern, target):\n",
    "    if target not in grammar_pattern: return target\n",
    "    expr = random.choice(grammar_pattern[target])\n",
    "    tokens = [generate(grammar_pattern, e) for e in expr]\n",
    "    print(tokens)\n",
    "    return ''.join([t for t in tokens if t != 'null'])\n",
    "generate(grammar_pattern,'sentence')"
   ]
  },
  {
   "cell_type": "code",
   "execution_count": 47,
   "metadata": {
    "collapsed": true
   },
   "outputs": [],
   "source": [
    "import networkx"
   ]
  },
  {
   "cell_type": "code",
   "execution_count": 51,
   "metadata": {
    "collapsed": true
   },
   "outputs": [],
   "source": [
    "graph_long = {\n",
    "    '1': '2 7',\n",
    "    '2': '3', \n",
    "    '3': '4', \n",
    "    '4': '5', \n",
    "    '5': '6 10', \n",
    "    '7': '8',\n",
    "    '6': '5',\n",
    "    '8': '9',\n",
    "    '9': '10', \n",
    "    '10': '5 11', \n",
    "    '11': '12',\n",
    "    '12': '11',\n",
    "}"
   ]
  },
  {
   "cell_type": "code",
   "execution_count": 52,
   "metadata": {
    "collapsed": true
   },
   "outputs": [],
   "source": [
    "for n in graph_long: graph_long[n] = graph_long[n].split()\n"
   ]
  },
  {
   "cell_type": "code",
   "execution_count": 53,
   "metadata": {
    "collapsed": true
   },
   "outputs": [],
   "source": [
    "air_route = networkx.Graph(graph_long)\n",
    "%matplotlib inline"
   ]
  },
  {
   "cell_type": "code",
   "execution_count": 54,
   "metadata": {},
   "outputs": [
    {
     "name": "stderr",
     "output_type": "stream",
     "text": [
      "D:\\ProgramData\\Anaconda3\\Lib\\site-packages\\networkx\\drawing\\nx_pylab.py:126: MatplotlibDeprecationWarning: pyplot.hold is deprecated.\n",
      "    Future behavior will be consistent with the long-time default:\n",
      "    plot commands add elements without first clearing the\n",
      "    Axes and/or Figure.\n",
      "  b = plt.ishold()\n",
      "D:\\ProgramData\\Anaconda3\\Lib\\site-packages\\networkx\\drawing\\nx_pylab.py:138: MatplotlibDeprecationWarning: pyplot.hold is deprecated.\n",
      "    Future behavior will be consistent with the long-time default:\n",
      "    plot commands add elements without first clearing the\n",
      "    Axes and/or Figure.\n",
      "  plt.hold(b)\n",
      "D:\\ProgramData\\Anaconda3\\Lib\\site-packages\\matplotlib\\__init__.py:917: UserWarning: axes.hold is deprecated. Please remove it from your matplotlibrc and/or style files.\n",
      "  warnings.warn(self.msg_depr_set % key)\n",
      "D:\\ProgramData\\Anaconda3\\Lib\\site-packages\\matplotlib\\rcsetup.py:152: UserWarning: axes.hold is deprecated, will be removed in 3.0\n",
      "  warnings.warn(\"axes.hold is deprecated, will be removed in 3.0\")\n"
     ]
    },
    {
     "data": {
      "image/png": "[encoded data removed]",
      "text/plain": [
       "<matplotlib.figure.Figure at 0x1d468916a20>"
      ]
     },
     "metadata": {},
     "output_type": "display_data"
    }
   ],
   "source": [
    "networkx.draw(air_route,with_labels = True)"
   ]
  },
  {
   "cell_type": "code",
   "execution_count": 56,
   "metadata": {
    "collapsed": true
   },
   "outputs": [],
   "source": [
    "def search (graph, concat_func):\n",
    "    seen = set()\n",
    "    need_visited = ['1']\n",
    "    while need_visited:\n",
    "        node = need_visited.pop()\n",
    "        if node in seen: continue\n",
    "        print('I am looking at:{}'.format(node))\n",
    "        seen.add(node)\n",
    "        new_discoveried = graph[node]\n",
    "        need_visited = concat_func(new_discoveried,  need_visited)"
   ]
  },
  {
   "cell_type": "code",
   "execution_count": 59,
   "metadata": {
    "collapsed": true
   },
   "outputs": [],
   "source": [
    "def treat_new_discover_more_important(new_discoveried, need_visited):\n",
    "    return new_discoveried + need_visited\n",
    "def treat_already_discoveried_more_important(new_discoveried, need_visited):\n",
    "    return need_visited + new_discoveried"
   ]
  },
  {
   "cell_type": "markdown",
   "metadata": {},
   "source": [
    "# 深度遍历"
   ]
  },
  {
   "cell_type": "code",
   "execution_count": 63,
   "metadata": {},
   "outputs": [
    {
     "name": "stdout",
     "output_type": "stream",
     "text": [
      "I am looking at:1\n",
      "I am looking at:7\n",
      "I am looking at:8\n",
      "I am looking at:9\n",
      "I am looking at:10\n",
      "I am looking at:11\n",
      "I am looking at:12\n",
      "I am looking at:5\n",
      "I am looking at:6\n",
      "I am looking at:2\n",
      "I am looking at:3\n",
      "I am looking at:4\n"
     ]
    }
   ],
   "source": [
    "search(graph_long , treat_already_discoveried_more_important)"
   ]
  },
  {
   "cell_type": "markdown",
   "metadata": {},
   "source": [
    "# 广度遍历"
   ]
  },
  {
   "cell_type": "code",
   "execution_count": 64,
   "metadata": {},
   "outputs": [
    {
     "name": "stdout",
     "output_type": "stream",
     "text": [
      "I am looking at:1\n",
      "I am looking at:7\n",
      "I am looking at:2\n",
      "I am looking at:8\n",
      "I am looking at:3\n",
      "I am looking at:9\n",
      "I am looking at:4\n",
      "I am looking at:10\n",
      "I am looking at:5\n",
      "I am looking at:11\n",
      "I am looking at:6\n",
      "I am looking at:12\n"
     ]
    }
   ],
   "source": [
    "search(graph_long , treat_new_discover_more_important)"
   ]
  },
  {
   "cell_type": "markdown",
   "metadata": {},
   "source": [
    "# Mapping"
   ]
  },
  {
   "cell_type": "code",
   "execution_count": 65,
   "metadata": {
    "collapsed": true
   },
   "outputs": [],
   "source": [
    "BJ = 'Beijing'\n",
    "SZ = 'Shenzhen'\n",
    "GZ = 'Guangzhou'\n",
    "WH = 'Wuhan'\n",
    "HLG = 'Heilongjiang'\n",
    "NY = 'New York City'\n",
    "CM = 'Chiangmai'\n",
    "SG = 'Singapore'"
   ]
  },
  {
   "cell_type": "code",
   "execution_count": 66,
   "metadata": {
    "collapsed": true
   },
   "outputs": [],
   "source": [
    "air_route = {\n",
    "    BJ : {SZ, GZ, WH, HLG, NY}, \n",
    "    GZ : {WH, BJ, CM, SG},\n",
    "    SZ : {BJ, SG},\n",
    "    WH : {BJ, GZ},\n",
    "    HLG : {BJ},\n",
    "    CM : {GZ},\n",
    "    NY : {BJ}\n",
    "}"
   ]
  },
  {
   "cell_type": "code",
   "execution_count": 67,
   "metadata": {},
   "outputs": [
    {
     "name": "stderr",
     "output_type": "stream",
     "text": [
      "D:\\ProgramData\\Anaconda3\\Lib\\site-packages\\networkx\\drawing\\nx_pylab.py:126: MatplotlibDeprecationWarning: pyplot.hold is deprecated.\n",
      "    Future behavior will be consistent with the long-time default:\n",
      "    plot commands add elements without first clearing the\n",
      "    Axes and/or Figure.\n",
      "  b = plt.ishold()\n",
      "D:\\ProgramData\\Anaconda3\\Lib\\site-packages\\networkx\\drawing\\nx_pylab.py:138: MatplotlibDeprecationWarning: pyplot.hold is deprecated.\n",
      "    Future behavior will be consistent with the long-time default:\n",
      "    plot commands add elements without first clearing the\n",
      "    Axes and/or Figure.\n",
      "  plt.hold(b)\n",
      "D:\\ProgramData\\Anaconda3\\Lib\\site-packages\\matplotlib\\__init__.py:917: UserWarning: axes.hold is deprecated. Please remove it from your matplotlibrc and/or style files.\n",
      "  warnings.warn(self.msg_depr_set % key)\n",
      "D:\\ProgramData\\Anaconda3\\Lib\\site-packages\\matplotlib\\rcsetup.py:152: UserWarning: axes.hold is deprecated, will be removed in 3.0\n",
      "  warnings.warn(\"axes.hold is deprecated, will be removed in 3.0\")\n"
     ]
    },
    {
     "data": {
      "image/png": "[encoded data removed]",
      "text/plain": [
       "<matplotlib.figure.Figure at 0x1d46897c400>"
      ]
     },
     "metadata": {},
     "output_type": "display_data"
    }
   ],
   "source": [
    "import networkx\n",
    "air_route = networkx.Graph(air_route)\n",
    "%matplotlib inline\n",
    "networkx.draw(air_route, with_labels=True)\n"
   ]
  },
  {
   "cell_type": "code",
   "execution_count": 80,
   "metadata": {
    "collapsed": true
   },
   "outputs": [],
   "source": [
    "def search_desitination(graph, start, destination):\n",
    "    pathes = [[start]]\n",
    "    seen = set()\n",
    "    choosen_pathes = []\n",
    "    while pathes:\n",
    "        path = pathes.pop(0)\n",
    "        froniter = path[-1]\n",
    "        if froniter in seen: continue\n",
    "        # get new lines\n",
    "        \n",
    "        for city in graph[froniter]:\n",
    "#             new_path = path + [city]\n",
    "            new_path =  path + [city] \n",
    "\n",
    "            pathes.append(new_path)\n",
    "            if city == destination: return new_path\n",
    "        \n",
    "        seen.add(city)\n",
    "    return choosen_pathes"
   ]
  },
  {
   "cell_type": "code",
   "execution_count": 81,
   "metadata": {
    "collapsed": true
   },
   "outputs": [],
   "source": [
    "def draw_route(cities): return ' ✈️ -> '.join(cities)\n",
    "\n"
   ]
  },
  {
   "cell_type": "code",
   "execution_count": 82,
   "metadata": {},
   "outputs": [
    {
     "data": {
      "text/plain": [
       "'Shenzhen ✈️ -> Beijing ✈️ -> Guangzhou ✈️ -> Chiangmai'"
      ]
     },
     "execution_count": 82,
     "metadata": {},
     "output_type": "execute_result"
    }
   ],
   "source": [
    "draw_route(search_desitination(air_route, SZ, CM))\n"
   ]
  },
  {
   "cell_type": "code",
   "execution_count": null,
   "metadata": {
    "collapsed": true
   },
   "outputs": [],
   "source": []
  },
  {
   "cell_type": "code",
   "execution_count": null,
   "metadata": {
    "collapsed": true
   },
   "outputs": [],
   "source": []
  },
  {
   "cell_type": "code",
   "execution_count": null,
   "metadata": {
    "collapsed": true
   },
   "outputs": [],
   "source": []
  },
  {
   "cell_type": "code",
   "execution_count": null,
   "metadata": {
    "collapsed": true
   },
   "outputs": [],
   "source": []
  },
  {
   "cell_type": "code",
   "execution_count": null,
   "metadata": {
    "collapsed": true
   },
   "outputs": [],
   "source": []
  },
  {
   "cell_type": "code",
   "execution_count": null,
   "metadata": {
    "collapsed": true
   },
   "outputs": [],
   "source": []
  },
  {
   "cell_type": "code",
   "execution_count": null,
   "metadata": {
    "collapsed": true
   },
   "outputs": [],
   "source": []
  },
  {
   "cell_type": "code",
   "execution_count": null,
   "metadata": {
    "collapsed": true
   },
   "outputs": [],
   "source": []
  },
  {
   "cell_type": "code",
   "execution_count": null,
   "metadata": {
    "collapsed": true
   },
   "outputs": [],
   "source": []
  },
  {
   "cell_type": "code",
   "execution_count": null,
   "metadata": {
    "collapsed": true
   },
   "outputs": [],
   "source": []
  },
  {
   "cell_type": "code",
   "execution_count": null,
   "metadata": {
    "collapsed": true
   },
   "outputs": [],
   "source": []
  },
  {
   "cell_type": "code",
   "execution_count": null,
   "metadata": {
    "collapsed": true
   },
   "outputs": [],
   "source": []
  },
  {
   "cell_type": "code",
   "execution_count": null,
   "metadata": {
    "collapsed": true
   },
   "outputs": [],
   "source": []
  }
 ],
 "metadata": {
  "kernelspec": {
   "display_name": "Python 3",
   "language": "python",
   "name": "python3"
  },
  "language_info": {
   "codemirror_mode": {
    "name": "ipython",
    "version": 3
   },
   "file_extension": ".py",
   "mimetype": "text/x-python",
   "name": "python",
   "nbconvert_exporter": "python",
   "pygments_lexer": "ipython3",
   "version": "3.6.6"
  }
 },
 "nbformat": 4,
 "nbformat_minor": 2
}
