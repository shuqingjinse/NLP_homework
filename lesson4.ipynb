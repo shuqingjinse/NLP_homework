{
 "cells": [
  {
   "cell_type": "code",
   "execution_count": 10,
   "metadata": {
    "collapsed": true
   },
   "outputs": [],
   "source": [
    "from functools import wraps #还原func help\n",
    "def memo(func):\n",
    "    cache = {}\n",
    "    @wraps(func)\n",
    "    def _wrap(*args, **kwargs):\n",
    "        # print('\\tHi, I am function:{}'.format(func.__name__))\n",
    "        str_key = str(args) + str(kwargs)\n",
    "        if str_key not in cache:\n",
    "            result = func(*args, **kwargs)\n",
    "            cache[str_key] = result\n",
    "        return cache[str_key]\n",
    "    return _wrap"
   ]
  },
  {
   "cell_type": "code",
   "execution_count": 14,
   "metadata": {},
   "outputs": [],
   "source": [
    "@memo\n",
    "def get_edit_distance(string1, string2):\n",
    "    if len(string1) == 0: return len(string2)\n",
    "    if len(string2) == 0: return len(string1)\n",
    "    return min(\n",
    "    [\n",
    "        get_edit_distance(string1[:-1], string2) + 1,\n",
    "        get_edit_distance(string2[:-1], string1) + 1,\n",
    "        get_edit_distance(string1[:-1], string2[:-1]) + (0 if string1[-1] == string2[-1] else 2)\n",
    "    ])"
   ]
  },
  {
   "cell_type": "code",
   "execution_count": 15,
   "metadata": {},
   "outputs": [
    {
     "data": {
      "text/plain": [
       "0.001993417739868164"
      ]
     },
     "execution_count": 15,
     "metadata": {},
     "output_type": "execute_result"
    }
   ],
   "source": [
    "import time\n",
    "start = time.time()\n",
    "get_edit_distance('studfadsfsay', 'learfadsfasfdn')\n",
    "end = time.time()\n",
    "end - start"
   ]
  },
  {
   "cell_type": "code",
   "execution_count": 16,
   "metadata": {},
   "outputs": [
    {
     "data": {
      "text/plain": [
       "2"
      ]
     },
     "execution_count": 16,
     "metadata": {},
     "output_type": "execute_result"
    }
   ],
   "source": [
    "get_edit_distance('biejing','beijing')"
   ]
  },
  {
   "cell_type": "code",
   "execution_count": 17,
   "metadata": {},
   "outputs": [
    {
     "data": {
      "text/plain": [
       "3"
      ]
     },
     "execution_count": 17,
     "metadata": {},
     "output_type": "execute_result"
    }
   ],
   "source": [
    "get_edit_distance('biejing','biejie')"
   ]
  },
  {
   "cell_type": "code",
   "execution_count": 186,
   "metadata": {},
   "outputs": [
    {
     "data": {
      "image/png": "[encoded data removed]",
      "text/plain": [
       "<Figure size 432x288 with 1 Axes>"
      ]
     },
     "metadata": {},
     "output_type": "display_data"
    }
   ],
   "source": [
    "import random\n",
    "import matplotlib.pyplot as plt\n",
    "latitudes = [random.randint(-100, 100) for _ in range(10)]\n",
    "longitude = [random.randint(-100, 100) for _ in range(10)]\n",
    "plt.scatter(latitudes, longitude)\n",
    "plt.show()"
   ]
  },
  {
   "cell_type": "code",
   "execution_count": 187,
   "metadata": {},
   "outputs": [],
   "source": [
    "car_number = 4\n",
    "dot_num = len(latitudes)"
   ]
  },
  {
   "cell_type": "code",
   "execution_count": 188,
   "metadata": {},
   "outputs": [
    {
     "name": "stdout",
     "output_type": "stream",
     "text": [
      "[(58, 85), (-45, -52), (38, 89), (28, 60), (-36, -73), (71, -50), (-98, 43), (68, -92), (36, 85), (-59, 29)]\n"
     ]
    }
   ],
   "source": [
    "dot = list(zip(latitudes,longitude))\n",
    "print(dot)"
   ]
  },
  {
   "cell_type": "code",
   "execution_count": 189,
   "metadata": {},
   "outputs": [
    {
     "data": {
      "text/plain": [
       "[[58, 85],\n",
       " [-45, -52],\n",
       " [38, 89],\n",
       " [28, 60],\n",
       " [-36, -73],\n",
       " [71, -50],\n",
       " [-98, 43],\n",
       " [68, -92],\n",
       " [36, 85],\n",
       " [-59, 29]]"
      ]
     },
     "execution_count": 189,
     "metadata": {},
     "output_type": "execute_result"
    }
   ],
   "source": [
    "dot_array = [list(x) for x in dot]\n",
    "dot_array"
   ]
  },
  {
   "cell_type": "code",
   "execution_count": 190,
   "metadata": {},
   "outputs": [
    {
     "data": {
      "text/plain": [
       "array([[ 58,  85],\n",
       "       [-45, -52],\n",
       "       [ 38,  89],\n",
       "       [ 28,  60],\n",
       "       [-36, -73],\n",
       "       [ 71, -50],\n",
       "       [-98,  43],\n",
       "       [ 68, -92],\n",
       "       [ 36,  85],\n",
       "       [-59,  29]])"
      ]
     },
     "execution_count": 190,
     "metadata": {},
     "output_type": "execute_result"
    }
   ],
   "source": [
    "import numpy as np\n",
    "dot_array= np.array(dot_array)\n",
    "dot_array"
   ]
  },
  {
   "cell_type": "code",
   "execution_count": 191,
   "metadata": {},
   "outputs": [
    {
     "data": {
      "text/plain": [
       "array([[0., 0., 0., 0., 0., 0., 0., 0., 0., 0.],\n",
       "       [0., 0., 0., 0., 0., 0., 0., 0., 0., 0.],\n",
       "       [0., 0., 0., 0., 0., 0., 0., 0., 0., 0.],\n",
       "       [0., 0., 0., 0., 0., 0., 0., 0., 0., 0.],\n",
       "       [0., 0., 0., 0., 0., 0., 0., 0., 0., 0.],\n",
       "       [0., 0., 0., 0., 0., 0., 0., 0., 0., 0.],\n",
       "       [0., 0., 0., 0., 0., 0., 0., 0., 0., 0.],\n",
       "       [0., 0., 0., 0., 0., 0., 0., 0., 0., 0.],\n",
       "       [0., 0., 0., 0., 0., 0., 0., 0., 0., 0.],\n",
       "       [0., 0., 0., 0., 0., 0., 0., 0., 0., 0.]])"
      ]
     },
     "execution_count": 191,
     "metadata": {},
     "output_type": "execute_result"
    }
   ],
   "source": [
    "dist = np.zeros((dot_num, dot_num))\n",
    "dist"
   ]
  },
  {
   "cell_type": "code",
   "execution_count": 192,
   "metadata": {},
   "outputs": [
    {
     "data": {
      "text/plain": [
       "array([[  0.        , 171.40011669,  20.39607805,  39.05124838,\n",
       "        183.84776311, 135.62448157, 161.55494421, 177.28226082,\n",
       "         22.        , 129.71121771],\n",
       "       [171.40011669,   0.        , 163.6154027 , 133.68993979,\n",
       "         22.84731932, 116.0172401 , 108.78419003, 119.87076374,\n",
       "        159.15401346,  82.20097323],\n",
       "       [ 20.39607805, 163.6154027 ,   0.        ,  30.6757233 ,\n",
       "        178.10109489, 142.86357128, 143.56879884, 183.46934349,\n",
       "          4.47213595, 114.05700329],\n",
       "       [ 39.05124838, 133.68993979,  30.6757233 ,   0.        ,\n",
       "        147.59742545, 118.1058847 , 127.14165328, 157.17506164,\n",
       "         26.2488095 ,  92.35799911],\n",
       "       [183.84776311,  22.84731932, 178.10109489, 147.59742545,\n",
       "          0.        , 109.44404963, 131.52946438, 105.72133181,\n",
       "        173.63179432, 104.56098699],\n",
       "       [135.62448157, 116.0172401 , 142.86357128, 118.1058847 ,\n",
       "        109.44404963,   0.        , 192.89893727,  42.10700654,\n",
       "        139.46325681, 152.12166184],\n",
       "       [161.55494421, 108.78419003, 143.56879884, 127.14165328,\n",
       "        131.52946438, 192.89893727,   0.        , 213.9649504 ,\n",
       "        140.42791745,  41.43669871],\n",
       "       [177.28226082, 119.87076374, 183.46934349, 157.17506164,\n",
       "        105.72133181,  42.10700654, 213.9649504 ,   0.        ,\n",
       "        179.86939706, 175.41379649],\n",
       "       [ 22.        , 159.15401346,   4.47213595,  26.2488095 ,\n",
       "        173.63179432, 139.46325681, 140.42791745, 179.86939706,\n",
       "          0.        , 110.27692415],\n",
       "       [129.71121771,  82.20097323, 114.05700329,  92.35799911,\n",
       "        104.56098699, 152.12166184,  41.43669871, 175.41379649,\n",
       "        110.27692415,   0.        ]])"
      ]
     },
     "execution_count": 192,
     "metadata": {},
     "output_type": "execute_result"
    }
   ],
   "source": [
    "import math\n",
    "for i in range(dot_num):\n",
    "    for j in range(dot_num):\n",
    "        dist[i,j] = math.sqrt(np.sum((dot_array[i, :] - dot_array[j, :]) ** 2))\n",
    "dist"
   ]
  },
  {
   "cell_type": "code",
   "execution_count": 193,
   "metadata": {
    "collapsed": true
   },
   "outputs": [],
   "source": [
    "path_dot = np.ones((2 ** (dot_num + 1), dot_num))\n",
    "dp = np.ones((2 ** (dot_num + 1), dot_num)) * -1"
   ]
  },
  {
   "cell_type": "code",
   "execution_count": 194,
   "metadata": {
    "collapsed": true
   },
   "outputs": [],
   "source": [
    "def TSP(s, init, num):\n",
    "    if dp[s][init] != -1:\n",
    "        return dp[s][init]\n",
    "    if s == (1 << (dot_num)):\n",
    "        return dist[0][init]\n",
    "    sumpath = 1000000000\n",
    "    for i in range(dot_num):\n",
    "        if s & (1 << i):\n",
    "            m = TSP(s & (~(1 << i)), i, num + 1) + dist[i][init]\n",
    "            if m < sumpath:\n",
    "                sumpath = m\n",
    "                path_dot[s][init] = i\n",
    "    dp[s][init] = sumpath\n",
    "    return dp[s][init]"
   ]
  },
  {
   "cell_type": "code",
   "execution_count": 195,
   "metadata": {},
   "outputs": [
    {
     "name": "stdout",
     "output_type": "stream",
     "text": [
      "599.9960505941038\n",
      "2.0\n",
      "8.0\n",
      "3.0\n",
      "9.0\n",
      "6.0\n",
      "1.0\n",
      "4.0\n",
      "7.0\n",
      "5.0\n",
      "1.0\n"
     ]
    },
    {
     "data": {
      "text/plain": [
       "[2.0, 8.0, 3.0, 9.0, 6.0, 1.0, 4.0, 7.0, 5.0, 1.0]"
      ]
     },
     "execution_count": 195,
     "metadata": {},
     "output_type": "execute_result"
    }
   ],
   "source": [
    "init_point = 0\n",
    "s = 0\n",
    "for i in range(1, dot_num + 1):\n",
    "    s = s | (1 << i)\n",
    "start = time.clock()\n",
    "distance = TSP(s, init_point, 0)\n",
    "end = time.clock()\n",
    "s = 0b11111111110\n",
    "init = 0\n",
    "num = 0\n",
    "print(distance)\n",
    "ans_road = []\n",
    "while True:\n",
    "    print(path_dot[s][init])\n",
    "    ans_road.append(path_dot[s][init])\n",
    "    init = int(path_dot[s][init])\n",
    "    s = s & (~(1 << init))\n",
    "    num += 1\n",
    "    if num > 9:\n",
    "        break\n",
    "ans_road"
   ]
  },
  {
   "cell_type": "code",
   "execution_count": 196,
   "metadata": {},
   "outputs": [],
   "source": [
    "# ans_road_int = map(int,ans_road)\n",
    "dot_road = [dot_array[int(i)] for i in ans_road]"
   ]
  },
  {
   "cell_type": "code",
   "execution_count": 197,
   "metadata": {},
   "outputs": [
    {
     "data": {
      "image/png": "[encoded data removed]",
      "text/plain": [
       "<Figure size 432x288 with 1 Axes>"
      ]
     },
     "metadata": {},
     "output_type": "display_data"
    }
   ],
   "source": [
    "x1 = []\n",
    "x2 = []\n",
    "for x in dot_road:\n",
    "    x1.append(x[0])\n",
    "    x2.append(x[1])\n",
    "plt.plot(x1, x2, 'go-')  #带有圆圈标记的绿线\n",
    "plt.show()"
   ]
  },
  {
   "cell_type": "code",
   "execution_count": null,
   "metadata": {
    "collapsed": true
   },
   "outputs": [],
   "source": []
  }
 ],
 "metadata": {
  "kernelspec": {
   "display_name": "Python 3",
   "language": "python",
   "name": "python3"
  },
  "language_info": {
   "codemirror_mode": {
    "name": "ipython",
    "version": 3
   },
   "file_extension": ".py",
   "mimetype": "text/x-python",
   "name": "python",
   "nbconvert_exporter": "python",
   "pygments_lexer": "ipython3",
   "version": "3.6.6"
  }
 },
 "nbformat": 4,
 "nbformat_minor": 2
}
